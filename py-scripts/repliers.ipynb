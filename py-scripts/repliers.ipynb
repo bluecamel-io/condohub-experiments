{
 "cells": [
  {
   "cell_type": "code",
   "execution_count": 1,
   "metadata": {},
   "outputs": [],
   "source": [
    "import json\n",
    "import pickle\n",
    "import pprint\n",
    "import dateutil\n",
    "import datetime\n",
    "import os\n",
    "\n",
    "import numpy as np\n",
    "import pandas as pd\n",
    "import requests\n",
    "import seaborn as sns; sns.set()\n",
    "import matplotlib.pyplot as plt"
   ]
  },
  {
   "cell_type": "markdown",
   "metadata": {},
   "source": [
    "## constants"
   ]
  },
  {
   "cell_type": "code",
   "execution_count": 2,
   "metadata": {},
   "outputs": [],
   "source": [
    "## paths\n",
    "CACHE_PATH = 'script-data/'\n",
    "\n",
    "## api endpoints\n",
    "LISTINGS_URL = 'https://dev.repliers.io/listings'\n",
    "LISTINGS_LOCATIONS_URL = 'https://dev.repliers.io/listings/locations'\n",
    "\n",
    "## request headers\n",
    "HEADERS = { 'REPLIERS-API-KEY': '1234567890',\n",
    "            'content-type': 'application/json' }\n",
    "\n",
    "## condo details\n",
    "\n",
    "## menkes\n",
    "SHERWAY_GARDENS = [{ 'streetName': 'Sherway Gardens', 'streetNumber': 205, 'type': 'sale' }]\n",
    "GIBSON_SQUARE = [{ 'streetName': 'Yonge', 'streetNumber': 5162, 'type': 'sale' },\n",
    "                 { 'streetName': 'Yonge', 'streetNumber': 5168, 'type': 'sale' }]\n",
    "PEARS_ON_THE_AVENUE = [{ 'streetName': 'Avenue', 'streetNumber': 162, 'type': 'sale' },\n",
    "                       { 'streetName': 'Avenue', 'streetNumber': 170, 'type': 'sale' }]\n",
    "FABRIK = [{ 'streetName': 'Richmond', 'streetNumber': 435, 'type': 'sale' }]\n",
    "\n",
    "## tridel\n",
    "SQ = [{ 'streetName': 'Cameron', 'streetNumber': 38, 'type': 'sale' }]\n",
    "AQUAVISTA = [{ 'streetName': 'Queens Quay', 'streetNumber': 261, 'type': 'sale' }]\n",
    "AQUALINA = [{ 'streetName': 'Merchants\\' Wharf', 'streetNumber': 15, 'type': 'sale' }]\n",
    "FRONT_300 = [{ 'streetName': 'Front', 'streetNumber': 300, 'type': 'sale' }]\n",
    "ALTER = [{ 'streetName': 'Mcgill', 'streetNumber': 89, 'type': 'sale' }]\n",
    "ERSKINE_101 = [{ 'streetName': 'Erskine', 'streetNumber': 101, 'type': 'sale' }]\n",
    "\n",
    "\n",
    "## local cache-related params\n",
    "LISTINGS_CACHE_INSTRUCTIONS = [ (SHERWAY_GARDENS, 'u-listings-sherway.pickle', 'menkes'),\n",
    "                                (GIBSON_SQUARE, 'u-listings-gibson.pickle', 'menkes'),\n",
    "                                (PEARS_ON_THE_AVENUE, 'u-listings-pears.pickle', 'menkes'),\n",
    "                                (FABRIK, 'u-listings-fabrik.pickle', 'menkes'),\n",
    "                                (SQ, 'u-listings-gibson.pickle', 'tridel'),\n",
    "                                (AQUAVISTA, 'u-listings-aquavista.pickle', 'tridel'),\n",
    "                                (AQUALINA, 'u-listings-aqualina.pickle', 'tridel'),\n",
    "                                (FRONT_300, 'u-listings-300-front.pickle', 'tridel'),\n",
    "                                (ALTER, 'u-listings-alter.pickle', 'tridel'),\n",
    "                                (ERSKINE_101, 'u-listings-101-erskine.pickle', 'tridel')]\n",
    "LISTINGS_CACHE_ELEMS = [ (x[1], x[2]) for x in LISTINGS_CACHE_INSTRUCTIONS ]"
   ]
  },
  {
   "cell_type": "markdown",
   "metadata": {},
   "source": [
    "## convenience functions"
   ]
  },
  {
   "cell_type": "code",
   "execution_count": 3,
   "metadata": {},
   "outputs": [],
   "source": [
    "def save(obj, fname='cache.pickle'):\n",
    "    pickle.dump(obj, open('%s/%s' % (CACHE_PATH, fname), \"wb\"))\n",
    "\n",
    "def load(fname='cache.pickle'):\n",
    "    return pickle.load(open('%s/%s' % (CACHE_PATH, fname), \"rb\"))\n",
    "\n",
    "def print_nicely(txt, use_pprint=False):\n",
    "    if use_pprint:\n",
    "        pprint.pprint(txt)\n",
    "    else:\n",
    "        print(json.dumps(txt, indent=4))"
   ]
  },
  {
   "cell_type": "markdown",
   "metadata": {},
   "source": [
    "## raw data pipepline"
   ]
  },
  {
   "cell_type": "code",
   "execution_count": 4,
   "metadata": {},
   "outputs": [],
   "source": [
    "def extract_locations():\n",
    "    req = requests.get(LISTINGS_LOCATIONS_URL, headers=HEADERS)\n",
    "    return req\n",
    "\n",
    "def extract_listings(city='Toronto', status='U', params={}, to_json=True):\n",
    "    if city is not None:\n",
    "        params['city'] = city\n",
    "        \n",
    "    if status is not None:\n",
    "        params['status'] = status\n",
    "        \n",
    "    req = requests.get(LISTINGS_URL, headers=HEADERS, params=params)\n",
    "    \n",
    "    if to_json:\n",
    "        return json.loads(req.text)\n",
    "    else:\n",
    "        return req\n",
    "\n",
    "def _raw_listings_etl(city='Toronto', status='U', params_list=[], stash_fname='cache.pickle'):\n",
    "    if len(params_list) == 0:\n",
    "        return False\n",
    "    \n",
    "    ## extract\n",
    "    es = [ extract_listings(city=city, status=status, params=params) for params in params_list ]\n",
    "    \n",
    "    ## transform\n",
    "    t = es[0]\n",
    "    \n",
    "    for e in es[1:]:\n",
    "        t['listings'] = t['listings'] + e['listings']\n",
    "        \n",
    "    ## load\n",
    "    save(t, fname=stash_fname)\n",
    "    \n",
    "    return True\n",
    "\n",
    "def raw_listings_etl(city='Toronto', status='U', cache_instructions=[]):\n",
    "    for (params_list, stash_fname, _) in cache_instructions:\n",
    "        _raw_listings_etl(city=city, status=status, params_list=params_list, stash_fname=stash_fname)"
   ]
  },
  {
   "cell_type": "markdown",
   "metadata": {},
   "source": [
    "## summary data pipeline"
   ]
  },
  {
   "cell_type": "code",
   "execution_count": 5,
   "metadata": {},
   "outputs": [],
   "source": [
    "def transform_listings_to_summary(listings=[], builder=None):\n",
    "    rows = []\n",
    "    \n",
    "    for listing in listings:\n",
    "        if listing['lastStatus'] in ['Exp', 'Ter', 'Sus']:\n",
    "            continue\n",
    "\n",
    "        ## address\n",
    "        street_number = listing['address']['streetNumber']\n",
    "        street_name = listing['address']['streetName']\n",
    "        street_suffix = listing['address']['streetSuffix']\n",
    "        \n",
    "        ## dates\n",
    "        list_date = dateutil.parser.parse(listing['listDate'])\n",
    "        sold_date = dateutil.parser.parse(listing['soldDate'])\n",
    "        dom = int(listing['daysOnMarket'])\n",
    "        computed_dom = (sold_date - list_date).days\n",
    "        \n",
    "        ## prices\n",
    "        list_price = float(listing['listPrice'])\n",
    "        sold_price = float(listing['soldPrice'])\n",
    "        sold_list_difference = sold_price - list_price\n",
    "\n",
    "        ## meta\n",
    "        taxes = float(listing['taxes']['annualAmount'])\n",
    "        \n",
    "        ## bedrooms\n",
    "        n_bedrooms = listing['details']['numBedrooms']\n",
    "        n_bedrooms = 0 if (n_bedrooms is None) or (n_bedrooms == '') else float(n_bedrooms)\n",
    "        \n",
    "        n_bedrooms_plus = listing['details']['numBedroomsPlus']\n",
    "        n_bedrooms_plus = 0 if (n_bedrooms_plus is None) or (n_bedrooms_plus == '') else (float(n_bedrooms_plus) / 2)\n",
    "        \n",
    "        n_bedrooms = n_bedrooms + n_bedrooms_plus\n",
    "\n",
    "        ## bathrooms\n",
    "        n_bathrooms = listing['details']['numBathrooms']\n",
    "        n_bathrooms = 0 if (n_bathrooms is None) or (n_bathrooms == '') else float(n_bathrooms)\n",
    "        \n",
    "        n_bathrooms_plus = listing['details']['numBathroomsPlus']\n",
    "        n_bathrooms_plus = 0 if (n_bathrooms_plus is None) or (n_bathrooms_plus == '') else (float(n_bathrooms_plus) / 2)\n",
    "        \n",
    "        n_bathrooms = n_bathrooms + n_bathrooms_plus\n",
    "\n",
    "        ## add row\n",
    "        rows.append({ 'street_number': street_number, \n",
    "                      'street_name': street_name, \n",
    "                      'street_suffix': street_suffix,\n",
    "                      'builder': builder,\n",
    "                      'list_date': list_date,\n",
    "                      'sold_date': sold_date,\n",
    "                      'dom': dom,\n",
    "                      'computed_dom': computed_dom,\n",
    "                      'list_price': list_price, \n",
    "                      'sold_price': sold_price, \n",
    "                      'sold_list_difference': sold_list_difference, \n",
    "                      'taxes': taxes, \n",
    "                      'n_bedrooms': n_bedrooms, \n",
    "                      'n_bathrooms': n_bathrooms })\n",
    "\n",
    "    return pd.DataFrame(rows)\n",
    "    \n",
    "def _summary_listings_etl(stash_fname='cache.pickle', builder=None):\n",
    "    cached_listings = load(fname=stash_fname)\n",
    "    return transform_listings_to_summary(listings=cached_listings['listings'], builder=builder)\n",
    "\n",
    "def summary_listings_etl(stash_elems=[]):\n",
    "    ## extract\n",
    "    es = [ _summary_listings_etl(stash_fname=stash_fname, builder=builder) for (stash_fname, builder) in stash_elems ]\n",
    "    \n",
    "    ## transform\n",
    "    ts = []\n",
    "    for t in es:\n",
    "        ts.append(t)\n",
    "        \n",
    "    t = pd.concat(ts)\n",
    "    \n",
    "    return t.reset_index(drop=True)"
   ]
  },
  {
   "cell_type": "markdown",
   "metadata": {},
   "source": [
    "## scripting"
   ]
  },
  {
   "cell_type": "code",
   "execution_count": 6,
   "metadata": {},
   "outputs": [
    {
     "data": {
      "image/png": "[encoded data removed]",
      "text/plain": [
       "<Figure size 842.4x595.44 with 1 Axes>"
      ]
     },
     "metadata": {
      "needs_background": "light"
     },
     "output_type": "display_data"
    }
   ],
   "source": [
    "df = summary_listings_etl(LISTINGS_CACHE_ELEMS)\n",
    "df = df.sort_values('sold_date')\n",
    "\n",
    "df = df[(df['n_bedrooms'] == 1) & (df['n_bedrooms'] == 1)]\n",
    "\n",
    "df['sold_date'] = df['sold_date'] + pd.to_timedelta(df.groupby('sold_date').cumcount(), unit='m')\n",
    "df = df.set_index('sold_date', drop=False)\n",
    "\n",
    "df['unix_sold_date'] = df['sold_date'].astype(np.int64)\n",
    "df['mean_sold_price'] = df['sold_price'].rolling(25).mean()\n",
    "\n",
    "fig, ax = plt.subplots(figsize=(11.7, 8.27))\n",
    "\n",
    "ax = sns.scatterplot(ax=ax, x=\"unix_sold_date\", y=\"sold_price\", hue='builder', style='builder', data=df)\n",
    "#ax = sns.lineplot(ax=ax, x=\"sold_date\", y=\"mean_sold_price\", data=df)\n",
    "ax = sns.regplot(ax=ax, x=\"unix_sold_date\", y=\"sold_price\", scatter=False, data=df[df['builder'] == 'tridel'])\n",
    "ax = sns.regplot(ax=ax, x=\"unix_sold_date\", y=\"sold_price\", scatter=False, data=df[df['builder'] == 'menkes'])\n",
    "\n",
    "ax.set_xlim(df['unix_sold_date'].min(), df['unix_sold_date'].max())\n",
    "\n",
    "labels = ax.get_xticks()\n",
    "labels = [ int(l / 1000000000) for l in labels ]\n",
    "#labels = [ item.get_text() for item in ax.get_xticks() ]\n",
    "labels = [ datetime.datetime.utcfromtimestamp(ts).strftime('%y-%m-%d') for ts in labels ]\n",
    "_ = ax.set_xticklabels(labels)\n",
    "\n",
    "#print(df['sold_price'].rolling(3).mean())\n",
    "#print(df['sold_price'])"
   ]
  },
  {
   "cell_type": "code",
   "execution_count": null,
   "metadata": {},
   "outputs": [],
   "source": []
  }
 ],
 "metadata": {
  "kernelspec": {
   "display_name": "Python 3",
   "language": "python",
   "name": "python3"
  },
  "language_info": {
   "codemirror_mode": {
    "name": "ipython",
    "version": 3
   },
   "file_extension": ".py",
   "mimetype": "text/x-python",
   "name": "python",
   "nbconvert_exporter": "python",
   "pygments_lexer": "ipython3",
   "version": "3.6.3"
  }
 },
 "nbformat": 4,
 "nbformat_minor": 2
}
